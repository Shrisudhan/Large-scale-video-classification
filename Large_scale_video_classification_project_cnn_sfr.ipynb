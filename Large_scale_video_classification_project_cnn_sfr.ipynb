{
  "nbformat": 4,
  "nbformat_minor": 0,
  "metadata": {
    "colab": {
      "name": "Large scale video classification project cnn sfr.ipynb",
      "provenance": [],
      "collapsed_sections": []
    },
    "kernelspec": {
      "name": "python3",
      "display_name": "Python 3"
    },
    "accelerator": "GPU"
  },
  "cells": [
    {
      "cell_type": "code",
      "metadata": {
        "id": "Y1kQnZ9uY0co",
        "colab_type": "code",
        "colab": {
          "base_uri": "https://localhost:8080/",
          "height": 34
        },
        "outputId": "3c927a2f-0a46-4eee-8b5b-a768d5841549"
      },
      "source": [
        "from google.colab import drive\n",
        "drive.mount('/content/drive')"
      ],
      "execution_count": 4,
      "outputs": [
        {
          "output_type": "stream",
          "text": [
            "Drive already mounted at /content/drive; to attempt to forcibly remount, call drive.mount(\"/content/drive\", force_remount=True).\n"
          ],
          "name": "stdout"
        }
      ]
    },
    {
      "cell_type": "code",
      "metadata": {
        "id": "0j5Pb5ziY4Lh",
        "colab_type": "code",
        "colab": {}
      },
      "source": [
        "import torch\n",
        "import torchvision\n",
        "import cv2\n",
        "import torchvision.transforms as transforms\n",
        "import numpy as np\n",
        "import os\n",
        "from torch.utils.data import Dataset\n",
        "from PIL import Image\n",
        "transform = transforms.Compose([transforms.ToTensor(), transforms.Normalize((0.0, 0.0, 0.0), (0.25, 0.25, 0.25))])"
      ],
      "execution_count": 0,
      "outputs": []
    },
    {
      "cell_type": "code",
      "metadata": {
        "id": "hZE2tZDqY6wK",
        "colab_type": "code",
        "colab": {
          "base_uri": "https://localhost:8080/",
          "height": 1000
        },
        "outputId": "69d0512a-ea76-47fc-9e48-82b6c7d71223"
      },
      "source": [
        "sfr_trainset = []        \n",
        "class UCF101Dataset(Dataset):\n",
        "    def __init__(self,root,annotation,fpc):\n",
        "        Array = []\n",
        "        mid = int(fpc/2)+1\n",
        "        with open(annotation,'r') as f:\n",
        "            for line in f:\n",
        "                Array = [word for line in f for word in line.split()]\n",
        "        size = int(len(Array)/2)\n",
        "        for i in range(size):\n",
        "            if i%2 == 0:\n",
        "                Array[i] = '/content/drive/My Drive/UCF-101' + '/' + Array[i]\n",
        "        for i in range(size):\n",
        "            if i%100 == 99:\n",
        "              print(i)\n",
        "            cap = cv2.VideoCapture(Array[2*i])\n",
        "            success,image = cap.read()\n",
        "            count = 1\n",
        "            success = True\n",
        "            sfr = []\n",
        "            while success:\n",
        "                if count<=fpc:\n",
        "                    success,image = cap.read()\n",
        "                    if cv2.waitKey(10) == 27:                     # exit if Escape is hit\n",
        "                        break\n",
        "                    if count == mid:\n",
        "                        tensor_sfr = transform(image)\n",
        "                        sfr.append(tensor_sfr)\n",
        "                        sfr.append(int(Array[2*i+1]))\n",
        "                        sfr_trainset.append(sfr)\n",
        "                    count +=1                    \n",
        "                else:\n",
        "                    break    \n",
        "\n",
        "UCF101Dataset(root = '/content/drive/My Drive/UCF-101 frames',annotation = 'trainlist02.txt',fpc = 15)"
      ],
      "execution_count": 3,
      "outputs": [
        {
          "output_type": "stream",
          "text": [
            "99\n",
            "199\n",
            "299\n",
            "399\n",
            "499\n",
            "599\n",
            "699\n",
            "799\n",
            "899\n",
            "999\n",
            "1099\n",
            "1199\n",
            "1299\n",
            "1399\n",
            "1499\n",
            "1599\n",
            "1699\n",
            "1799\n",
            "1899\n",
            "1999\n",
            "2099\n",
            "2199\n",
            "2299\n",
            "2399\n",
            "2499\n",
            "2599\n",
            "2699\n",
            "2799\n",
            "2899\n",
            "2999\n",
            "3099\n",
            "3199\n",
            "3299\n",
            "3399\n",
            "3499\n",
            "3599\n",
            "3699\n",
            "3799\n",
            "3899\n",
            "3999\n",
            "4099\n",
            "4199\n",
            "4299\n",
            "4399\n",
            "4499\n",
            "4599\n",
            "4699\n",
            "4799\n",
            "4899\n",
            "4999\n",
            "5099\n",
            "5199\n",
            "5299\n",
            "5399\n",
            "5499\n",
            "5599\n",
            "5699\n",
            "5799\n",
            "5899\n",
            "5999\n",
            "6099\n",
            "6199\n",
            "6299\n",
            "6399\n",
            "6499\n",
            "6599\n",
            "6699\n",
            "6799\n",
            "6899\n",
            "6999\n",
            "7099\n",
            "7199\n",
            "7299\n",
            "7399\n",
            "7499\n",
            "7599\n",
            "7699\n",
            "7799\n",
            "7899\n",
            "7999\n",
            "8099\n",
            "8199\n",
            "8299\n",
            "8399\n",
            "8499\n",
            "8599\n",
            "8699\n",
            "8799\n",
            "8899\n",
            "8999\n",
            "9099\n",
            "9199\n",
            "9299\n",
            "9399\n",
            "9499\n"
          ],
          "name": "stdout"
        },
        {
          "output_type": "execute_result",
          "data": {
            "text/plain": [
              "<__main__.UCF101Dataset at 0x7f12ade9bd30>"
            ]
          },
          "metadata": {
            "tags": []
          },
          "execution_count": 3
        }
      ]
    },
    {
      "cell_type": "code",
      "metadata": {
        "id": "s6bOmVOWnRG8",
        "colab_type": "code",
        "colab": {
          "base_uri": "https://localhost:8080/",
          "height": 34
        },
        "outputId": "2c59a25d-8e70-4b6d-88a4-cfffda29da17"
      },
      "source": [
        "sfr_testset = []        \n",
        "class UCF101Dataset(Dataset):\n",
        "    def __init__(self,root,annotation,fpc):\n",
        "        Array = []\n",
        "        mid = int(fpc/2)+1\n",
        "        with open(annotation,'r') as f:\n",
        "            for line in f:\n",
        "                Array = [word for line in f for word in line.split()]\n",
        "        size = int(len(Array)/2)\n",
        "        for i in range(size):\n",
        "            if i%2 == 0:\n",
        "                Array[i] = '/content/drive/My Drive/UCF-101' + '/' + Array[i]\n",
        "        for i in range(size):\n",
        "            cap = cv2.VideoCapture(Array[2*i])\n",
        "            success,image = cap.read()\n",
        "            count = 1\n",
        "            success = True\n",
        "            sfr = []\n",
        "            while success:\n",
        "                if count<=fpc:\n",
        "                    success,image = cap.read()\n",
        "                    if cv2.waitKey(10) == 27:                     # exit if Escape is hit\n",
        "                        break\n",
        "                    if count == mid:\n",
        "                        tensor_sfr = transform(image)\n",
        "                        sfr.append(tensor_sfr)\n",
        "                        sfr.append(int(Array[2*i+1]))\n",
        "                        sfr_testset.append(sfr)\n",
        "                    count +=1                    \n",
        "                else:\n",
        "                    break    \n",
        "            \n",
        "UCF101Dataset(root = '/content/drive/My Drive/UCF-101 frames',annotation = '/content/drive/My Drive/UCF-101/testlist02.txt',fpc = 15)"
      ],
      "execution_count": 6,
      "outputs": [
        {
          "output_type": "execute_result",
          "data": {
            "text/plain": [
              "<__main__.UCF101Dataset at 0x7f7689a12550>"
            ]
          },
          "metadata": {
            "tags": []
          },
          "execution_count": 6
        }
      ]
    },
    {
      "cell_type": "code",
      "metadata": {
        "id": "E4rsciLr8Sb9",
        "colab_type": "code",
        "colab": {}
      },
      "source": [
        "torch.save(sfr_trainset,'./ufc101_sfr_trainset.pt')\n",
        "torch.save(sfr_testset,'./ufc101_sfr_testset.pt')"
      ],
      "execution_count": 0,
      "outputs": []
    },
    {
      "cell_type": "code",
      "metadata": {
        "id": "vHwbSa9m9Jsu",
        "colab_type": "code",
        "colab": {}
      },
      "source": [
        "sfr_trainset = torch.load('/content/drive/My Drive/UCF-101/ufc101_sfr_trainset.pt')\n",
        "sfr_testset = torch.load('/content/drive/My Drive/UCF-101/ufc101_sfr_testset.pt')"
      ],
      "execution_count": 0,
      "outputs": []
    },
    {
      "cell_type": "code",
      "metadata": {
        "id": "tQ6ZUEgzZFcz",
        "colab_type": "code",
        "colab": {}
      },
      "source": [
        "sfr_trainloader = torch.utils.data.DataLoader(sfr_trainset, batch_size=16,shuffle=True, num_workers=1)\n",
        "sfr_testloader = torch.utils.data.DataLoader(sfr_testset, batch_size=16, shuffle=True, num_workers=1)\n",
        "classes = ['Apply Eye Makeup' , 'Apply Lipstick' , 'Archery' , 'Baby Crawling' , 'Balance Beam' , 'Band Marching' , 'Baseball Pitch' , 'Basketball Shooting' , 'Basketball Dunk' , 'Bench Press' , 'Biking' , 'Billiards Shot' , 'Blow Dry Hair' , 'Blowing Candles' , 'Body Weight Squats' , 'Bowling' , 'Boxing Punching Bag' , 'Boxing Speed Bag' , 'Breaststroke' , 'Brushing Teeth' , 'Clean and Jerk' , 'Cliff Diving' , 'Cricket Bowling' , 'Cricket Shot' , 'Cutting In Kitchen' , 'Diving' , 'Drumming' , 'Fencing' , 'Field Hockey Penalty' , 'Floor Gymnastics' , 'Frisbee Catch' , 'Front Crawl' , 'Golf Swing' , 'Haircut' , 'Hammer Throw' , 'Hammering' , 'Handstand Pushups' , 'Handstand Walking' , 'Head Massage' , 'High Jump' , 'Horse Race' , 'Horse Riding' , 'Hula Hoop' , 'Ice Dancing' , 'Javelin Throw' , 'Juggling Balls' , 'Jump Rope' , 'Jumping Jack' , 'Kayaking' , 'Knitting' , 'Long Jump' , 'Lunges' , 'Military Parade' , 'Mixing Batter' , 'Mopping Floor' , 'Nun chucks' , 'Parallel Bars' , 'Pizza Tossing' , 'Playing Guitar' , 'Playing Piano' , 'Playing Tabla' , 'Playing Violin' , 'Playing Cello' , 'Playing Daf' , 'Playing Dhol' , 'Playing Flute' , 'Playing Sitar' , 'Pole Vault' , 'Pommel Horse' , 'Pull Ups' , 'Punch' , 'Push Ups', 'Rafting' , 'Rock Climbing Indoor' , 'Rope Climbing' , 'Rowing' , 'Salsa Spins' , 'Shaving Beard' , 'Shotput' , 'Skate Boarding' , 'Skiing' , 'Skijet' , 'Sky Diving' , 'Soccer Juggling' , 'Soccer Penalty' , 'Still Rings' , 'Sumo Wrestling' , 'Surfing' , 'Swing' , 'Table Tennis Shot' , 'Tai Chi' , 'Tennis Swing' , 'Throw Discus' , 'Trampoline Jumping' , 'Typing' , 'Uneven Bars' , 'Volleyball Spiking' , 'Walking with a dog', 'Wall Pushups' , 'Writing On Board' , 'Yo Yo']"
      ],
      "execution_count": 0,
      "outputs": []
    },
    {
      "cell_type": "code",
      "metadata": {
        "id": "6ndkgeiyZKzS",
        "colab_type": "code",
        "colab": {
          "base_uri": "https://localhost:8080/",
          "height": 34
        },
        "outputId": "73a20479-767a-4126-92f3-6e7ea10f5314"
      },
      "source": [
        "device = torch.device(\"cuda:0\" if torch.cuda.is_available() else \"cpu\")\n",
        "print(device)"
      ],
      "execution_count": 7,
      "outputs": [
        {
          "output_type": "stream",
          "text": [
            "cuda:0\n"
          ],
          "name": "stdout"
        }
      ]
    },
    {
      "cell_type": "code",
      "metadata": {
        "id": "YQZxml7RZhzt",
        "colab_type": "code",
        "colab": {}
      },
      "source": [
        "import torch.nn as nn\n",
        "import torch.nn.functional as F\n",
        "\n",
        "\n",
        "class Single_Frame_Net(nn.Module):\n",
        "    def __init__(self):\n",
        "        super(Single_Frame_Net, self).__init__()\n",
        "        self.conv1 = nn.Conv2d(in_channels = 3, out_channels = 48, kernel_size = 6, stride = 2, padding = 0)\n",
        "        self.conv2 = nn.Conv2d(in_channels = 48, out_channels = 64, kernel_size = 6, stride = 2, padding = 0)\n",
        "        self.bn1 = nn.BatchNorm2d(64)\n",
        "        self.pool1 = nn.MaxPool2d(3, 2)\n",
        "        self.conv3 = nn.Conv2d(in_channels = 64, out_channels = 128, kernel_size = 6, stride = 2, padding = 0)\n",
        "        self.conv4 = nn.Conv2d(in_channels = 128, out_channels = 256, kernel_size = 3, stride = 2, padding = 0)\n",
        "        self.bn2 = nn.BatchNorm2d(256)\n",
        "        self.pool2 = nn.MaxPool2d(2, 2)\n",
        "        self.conv5 = nn.Conv2d(in_channels = 256, out_channels = 256, kernel_size = 2, stride = 2, padding = 0)\n",
        "        self.conv6 = nn.Conv2d(in_channels = 256, out_channels = 101, kernel_size = 1, stride = 2, padding = 0)\n",
        "        \n",
        "\n",
        "    def forward(self, x):\n",
        "        x = self.pool1(self.bn1(F.relu(self.conv2(self.conv1(x)))))\n",
        "        x = self.pool2(self.bn2(F.relu(self.conv4(self.conv3(x)))))\n",
        "        x = self.conv6(F.relu(self.conv5(x)))\n",
        "        return x\n",
        "\n",
        "sfr_net = Single_Frame_Net()"
      ],
      "execution_count": 0,
      "outputs": []
    },
    {
      "cell_type": "code",
      "metadata": {
        "id": "Zl4M4A3OZl5q",
        "colab_type": "code",
        "colab": {
          "base_uri": "https://localhost:8080/",
          "height": 221
        },
        "outputId": "cd9c31da-64d1-472c-91ee-16ca5a1f29de"
      },
      "source": [
        "sfr_net.to(device)"
      ],
      "execution_count": 9,
      "outputs": [
        {
          "output_type": "execute_result",
          "data": {
            "text/plain": [
              "Single_Frame_Net(\n",
              "  (conv1): Conv2d(3, 48, kernel_size=(6, 6), stride=(2, 2))\n",
              "  (conv2): Conv2d(48, 64, kernel_size=(6, 6), stride=(2, 2))\n",
              "  (bn1): BatchNorm2d(64, eps=1e-05, momentum=0.1, affine=True, track_running_stats=True)\n",
              "  (pool1): MaxPool2d(kernel_size=3, stride=2, padding=0, dilation=1, ceil_mode=False)\n",
              "  (conv3): Conv2d(64, 128, kernel_size=(6, 6), stride=(2, 2))\n",
              "  (conv4): Conv2d(128, 256, kernel_size=(3, 3), stride=(2, 2))\n",
              "  (bn2): BatchNorm2d(256, eps=1e-05, momentum=0.1, affine=True, track_running_stats=True)\n",
              "  (pool2): MaxPool2d(kernel_size=2, stride=2, padding=0, dilation=1, ceil_mode=False)\n",
              "  (conv5): Conv2d(256, 256, kernel_size=(2, 2), stride=(2, 2))\n",
              "  (conv6): Conv2d(256, 101, kernel_size=(1, 1), stride=(2, 2))\n",
              ")"
            ]
          },
          "metadata": {
            "tags": []
          },
          "execution_count": 9
        }
      ]
    },
    {
      "cell_type": "code",
      "metadata": {
        "id": "LpiOtvTrZmv6",
        "colab_type": "code",
        "colab": {}
      },
      "source": [
        "import torch.optim as optim\n",
        "\n",
        "criterion = nn.CrossEntropyLoss()\n",
        "optimizer = optim.Adam(sfr_net.parameters(), lr=0.001)#, momentum=0.9)"
      ],
      "execution_count": 0,
      "outputs": []
    },
    {
      "cell_type": "code",
      "metadata": {
        "id": "loBCzKRaZp26",
        "colab_type": "code",
        "colab": {
          "base_uri": "https://localhost:8080/",
          "height": 289
        },
        "outputId": "75c7f8fd-8889-4d87-d281-803dfa6dab5f"
      },
      "source": [
        "for epoch in range(5):  # loop over the dataset multiple times\n",
        "    running_loss = 0.0\n",
        "    for i,data in enumerate(sfr_trainloader, 0):\n",
        "        #print(data)\n",
        "        # get the inputs; data is a list of [inputs, labels]\n",
        "        inputs, labels = data[0].to(device), data[1].to(device)\n",
        "\n",
        "        # zero the parameter gradients\n",
        "        optimizer.zero_grad()\n",
        "\n",
        "        # forward + backward + optimize\n",
        "        outputs = sfr_net(inputs).squeeze()\n",
        "        #print(outputs.size())\n",
        "        loss = criterion(outputs, labels)\n",
        "        loss.backward()\n",
        "        optimizer.step()\n",
        "\n",
        "        # print statistics\n",
        "        running_loss += loss.item()\n",
        "        if i % 100 == 99:    # print every 10 mini-batches\n",
        "            print('[%d, %5d] loss: %.3f' %\n",
        "                  (epoch + 1, i + 1, running_loss / 100))\n",
        "            running_loss = 0.0\n",
        "\n",
        "print('Finished Training')"
      ],
      "execution_count": 12,
      "outputs": [
        {
          "output_type": "stream",
          "text": [
            "[1,   100] loss: 2.427\n",
            "[1,   200] loss: 2.237\n",
            "[1,   300] loss: 2.078\n",
            "[2,   100] loss: 1.525\n",
            "[2,   200] loss: 1.549\n",
            "[2,   300] loss: 1.305\n",
            "[3,   100] loss: 0.987\n",
            "[3,   200] loss: 1.006\n",
            "[3,   300] loss: 0.972\n",
            "[4,   100] loss: 0.571\n",
            "[4,   200] loss: 0.578\n",
            "[4,   300] loss: 0.671\n",
            "[5,   100] loss: 0.355\n",
            "[5,   200] loss: 0.364\n",
            "[5,   300] loss: 0.506\n",
            "Finished Training\n"
          ],
          "name": "stdout"
        }
      ]
    },
    {
      "cell_type": "code",
      "metadata": {
        "id": "mOlXxmooZxlf",
        "colab_type": "code",
        "colab": {}
      },
      "source": [
        "PATH_SFR = './ucf101_sfr_net_cnn.pt'\n",
        "torch.save(sfr_net.state_dict(), PATH_SFR)"
      ],
      "execution_count": 0,
      "outputs": []
    },
    {
      "cell_type": "code",
      "metadata": {
        "id": "5JeYZzHUZ0dx",
        "colab_type": "code",
        "colab": {
          "base_uri": "https://localhost:8080/",
          "height": 34
        },
        "outputId": "9cd9338f-b389-4823-c8fc-1717b485578e"
      },
      "source": [
        "PATH_SFR = './ucf101_sfr_net_cnn.pt'\n",
        "sfr_net = Single_Frame_Net()\n",
        "sfr_net.load_state_dict(torch.load(PATH_SFR))"
      ],
      "execution_count": 17,
      "outputs": [
        {
          "output_type": "execute_result",
          "data": {
            "text/plain": [
              "<All keys matched successfully>"
            ]
          },
          "metadata": {
            "tags": []
          },
          "execution_count": 17
        }
      ]
    },
    {
      "cell_type": "code",
      "metadata": {
        "id": "iYCEHSFCZ3Gc",
        "colab_type": "code",
        "colab": {
          "base_uri": "https://localhost:8080/",
          "height": 221
        },
        "outputId": "d948789a-cb17-438a-fac1-7efc8e50a4b5"
      },
      "source": [
        "sfr_net.to(device)"
      ],
      "execution_count": 18,
      "outputs": [
        {
          "output_type": "execute_result",
          "data": {
            "text/plain": [
              "Single_Frame_Net(\n",
              "  (conv1): Conv2d(3, 48, kernel_size=(6, 6), stride=(2, 2))\n",
              "  (conv2): Conv2d(48, 64, kernel_size=(6, 6), stride=(2, 2))\n",
              "  (bn1): BatchNorm2d(64, eps=1e-05, momentum=0.1, affine=True, track_running_stats=True)\n",
              "  (pool1): MaxPool2d(kernel_size=3, stride=2, padding=0, dilation=1, ceil_mode=False)\n",
              "  (conv3): Conv2d(64, 128, kernel_size=(6, 6), stride=(2, 2))\n",
              "  (conv4): Conv2d(128, 256, kernel_size=(3, 3), stride=(2, 2))\n",
              "  (bn2): BatchNorm2d(256, eps=1e-05, momentum=0.1, affine=True, track_running_stats=True)\n",
              "  (pool2): MaxPool2d(kernel_size=2, stride=2, padding=0, dilation=1, ceil_mode=False)\n",
              "  (conv5): Conv2d(256, 256, kernel_size=(2, 2), stride=(2, 2))\n",
              "  (conv6): Conv2d(256, 101, kernel_size=(1, 1), stride=(2, 2))\n",
              ")"
            ]
          },
          "metadata": {
            "tags": []
          },
          "execution_count": 18
        }
      ]
    },
    {
      "cell_type": "code",
      "metadata": {
        "id": "2CkcX_XIaCS9",
        "colab_type": "code",
        "colab": {
          "base_uri": "https://localhost:8080/",
          "height": 34
        },
        "outputId": "a933426d-0e6d-4458-c14b-8f5ac3504650"
      },
      "source": [
        "correct = 0\n",
        "total = 0\n",
        "with torch.no_grad():\n",
        "    for i,data in enumerate(sfr_trainloader,0):\n",
        "        images, labels = data[0].to(device), data[1].to(device)\n",
        "        outputs = sfr_net(images)\n",
        "        _, predicted = torch.max(outputs.data, 1)\n",
        "        total += labels.size(0)\n",
        "        correct += (predicted == labels).sum().item()\n",
        "\n",
        "print('Accuracy of the network on the train images: %d %%' % (100 * correct / total))"
      ],
      "execution_count": 20,
      "outputs": [
        {
          "output_type": "stream",
          "text": [
            "Accuracy of the network on the train images: 85 %\n"
          ],
          "name": "stdout"
        }
      ]
    },
    {
      "cell_type": "code",
      "metadata": {
        "id": "DilOrP4_aGqi",
        "colab_type": "code",
        "colab": {
          "base_uri": "https://localhost:8080/",
          "height": 34
        },
        "outputId": "1f8546ad-81dd-4f29-a8bc-a53d6a400622"
      },
      "source": [
        "correct = 0\n",
        "total = 0\n",
        "with torch.no_grad():\n",
        "    for i,data in enumerate(sfr_testloader,0):\n",
        "        images,labels = data[0].to(device), data[1].to(device)\n",
        "        outputs = sfr_net(images)\n",
        "        _, predicted = torch.max(outputs.data, 1)\n",
        "        total += labels.size(0)\n",
        "        correct += (predicted == labels).sum().item()\n",
        "        \n",
        "print('Accuracy of the network on the test images: %d %%' % (100 * correct / total))"
      ],
      "execution_count": 17,
      "outputs": [
        {
          "output_type": "stream",
          "text": [
            "Accuracy of the network on the test images: 51 %\n"
          ],
          "name": "stdout"
        }
      ]
    }
  ]
}