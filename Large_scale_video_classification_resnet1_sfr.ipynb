{
  "nbformat": 4,
  "nbformat_minor": 0,
  "metadata": {
    "colab": {
      "name": "Large scale video classification resnet1 sfr.ipynb",
      "provenance": [],
      "collapsed_sections": []
    },
    "kernelspec": {
      "name": "python3",
      "display_name": "Python 3"
    },
    "accelerator": "TPU"
  },
  "cells": [
    {
      "cell_type": "code",
      "metadata": {
        "id": "4Q_-RBkjSnDG",
        "colab_type": "code",
        "outputId": "3f93304d-f7c9-4111-84d2-5ac686ac84a1",
        "colab": {
          "base_uri": "https://localhost:8080/",
          "height": 122
        }
      },
      "source": [
        "from google.colab import drive\n",
        "drive.mount('/content/drive')"
      ],
      "execution_count": 0,
      "outputs": [
        {
          "output_type": "stream",
          "text": [
            "Go to this URL in a browser: https://accounts.google.com/o/oauth2/auth?client_id=947318989803-6bn6qk8qdgf4n4g3pfee6491hc0brc4i.apps.googleusercontent.com&redirect_uri=urn%3aietf%3awg%3aoauth%3a2.0%3aoob&response_type=code&scope=email%20https%3a%2f%2fwww.googleapis.com%2fauth%2fdocs.test%20https%3a%2f%2fwww.googleapis.com%2fauth%2fdrive%20https%3a%2f%2fwww.googleapis.com%2fauth%2fdrive.photos.readonly%20https%3a%2f%2fwww.googleapis.com%2fauth%2fpeopleapi.readonly\n",
            "\n",
            "Enter your authorization code:\n",
            "··········\n",
            "Mounted at /content/drive\n"
          ],
          "name": "stdout"
        }
      ]
    },
    {
      "cell_type": "code",
      "metadata": {
        "id": "3oRdZWIpidHS",
        "colab_type": "code",
        "colab": {}
      },
      "source": [
        "import torch\n",
        "import torchvision\n",
        "import cv2\n",
        "import torchvision.transforms as transforms\n",
        "import numpy as np\n",
        "import os\n",
        "from torch.utils.data import Dataset\n",
        "from PIL import Image\n",
        "transform = transforms.Compose([transforms.ToTensor(), transforms.Normalize((0.0, 0.0, 0.0), (0.25, 0.25, 0.25))])"
      ],
      "execution_count": 0,
      "outputs": []
    },
    {
      "cell_type": "code",
      "metadata": {
        "id": "XHnHS8p2igvl",
        "colab_type": "code",
        "colab": {}
      },
      "source": [
        "sfr_trainset = []        \n",
        "class UCF101Dataset(Dataset):\n",
        "    def __init__(self,root,annotation,fpc):\n",
        "        Array = []\n",
        "        mid = int(fpc/2)+1\n",
        "        with open(annotation,'r') as f:\n",
        "            for line in f:\n",
        "                Array = [word for line in f for word in line.split()]\n",
        "        size = int(len(Array)/2)\n",
        "        for i in range(size):\n",
        "            if i%2 == 0:\n",
        "                Array[i] = '/content/drive/My Drive/UCF-101' + '/' + Array[i]\n",
        "        for i in range(size):\n",
        "            cap = cv2.VideoCapture(Array[2*i])\n",
        "            success,image = cap.read()\n",
        "            count = 1\n",
        "            success = True\n",
        "            sfr = []\n",
        "            while success:\n",
        "                if count<=fpc:\n",
        "                    success,image = cap.read()\n",
        "                    if cv2.waitKey(10) == 27:                     # exit if Escape is hit\n",
        "                        break\n",
        "                    if count == mid:\n",
        "                        tensor_sfr = transform(image)\n",
        "                        sfr.append(tensor_sfr)\n",
        "                        sfr.append(int(Array[2*i+1]))\n",
        "                        sfr_trainset.append(sfr)\n",
        "                    count +=1                    \n",
        "                else:\n",
        "                    break    \n",
        "\n",
        "UCF101Dataset(root = '/content/drive/My Drive/UCF-101 frames',annotation = '/content/drive/My Drive/UCF-101/trainlist02.txt',fpc = 15)"
      ],
      "execution_count": 0,
      "outputs": []
    },
    {
      "cell_type": "code",
      "metadata": {
        "id": "Tt7OKT9Si_e5",
        "colab_type": "code",
        "colab": {}
      },
      "source": [
        "sfr_testset = []        \n",
        "class UCF101Dataset(Dataset):\n",
        "    def __init__(self,root,annotation,fpc):\n",
        "        Array = []\n",
        "        mid = int(fpc/2)+1\n",
        "        with open(annotation,'r') as f:\n",
        "            for line in f:\n",
        "                Array = [word for line in f for word in line.split()]\n",
        "        size = int(len(Array)/2)\n",
        "        for i in range(size):\n",
        "            if i%2 == 0:\n",
        "                Array[i] = '/content/drive/My Drive/UCF-101' + '/' + Array[i]\n",
        "        for i in range(size):\n",
        "            cap = cv2.VideoCapture(Array[2*i])\n",
        "            success,image = cap.read()\n",
        "            count = 1\n",
        "            success = True\n",
        "            sfr = []\n",
        "            while success:\n",
        "                if count<=fpc:\n",
        "                    success,image = cap.read()\n",
        "                    if cv2.waitKey(10) == 27:                     # exit if Escape is hit\n",
        "                        break\n",
        "                    if count == mid:\n",
        "                        tensor_sfr = transform(image)\n",
        "                        sfr.append(tensor_sfr)\n",
        "                        sfr.append(int(Array[2*i+1]))\n",
        "                        sfr_testset.append(sfr)\n",
        "                    count +=1                    \n",
        "                else:\n",
        "                    break    \n",
        "            \n",
        "UCF101Dataset(root = '/content/drive/My Drive/UCF-101 frames',annotation = '/content/drive/My Drive/UCF-101/testlist02.txt',fpc = 15)"
      ],
      "execution_count": 0,
      "outputs": []
    },
    {
      "cell_type": "code",
      "metadata": {
        "id": "U81DQwZfjCh8",
        "colab_type": "code",
        "colab": {}
      },
      "source": [
        "torch.save(sfr_trainset,'./ufc101_sfr_trainset.pt')\n",
        "torch.save(sfr_testset,'./ufc101_sfr_testset.pt')"
      ],
      "execution_count": 0,
      "outputs": []
    },
    {
      "cell_type": "code",
      "metadata": {
        "id": "a867k5iHjFTA",
        "colab_type": "code",
        "colab": {}
      },
      "source": [
        "sfr_trainset = torch.load('/content/drive/My Drive/UCF-101/ufc101_sfr_trainset.pt')\n",
        "sfr_testset = torch.load('/content/drive/My Drive/UCF-101/ufc101_sfr_testset.pt')"
      ],
      "execution_count": 0,
      "outputs": []
    },
    {
      "cell_type": "code",
      "metadata": {
        "id": "mY046jB6jnJ0",
        "colab_type": "code",
        "colab": {}
      },
      "source": [
        "sfr_trainloader = torch.utils.data.DataLoader(sfr_trainset, batch_size=16,shuffle=True, num_workers=1)\n",
        "sfr_testloader = torch.utils.data.DataLoader(sfr_testset, batch_size=16, shuffle=True, num_workers=1)\n",
        "classes = ['Apply Eye Makeup' , 'Apply Lipstick' , 'Archery' , 'Baby Crawling' , 'Balance Beam' , 'Band Marching' , 'Baseball Pitch' , 'Basketball Shooting' , 'Basketball Dunk' , 'Bench Press' , 'Biking' , 'Billiards Shot' , 'Blow Dry Hair' , 'Blowing Candles' , 'Body Weight Squats' , 'Bowling' , 'Boxing Punching Bag' , 'Boxing Speed Bag' , 'Breaststroke' , 'Brushing Teeth' , 'Clean and Jerk' , 'Cliff Diving' , 'Cricket Bowling' , 'Cricket Shot' , 'Cutting In Kitchen' , 'Diving' , 'Drumming' , 'Fencing' , 'Field Hockey Penalty' , 'Floor Gymnastics' , 'Frisbee Catch' , 'Front Crawl' , 'Golf Swing' , 'Haircut' , 'Hammer Throw' , 'Hammering' , 'Handstand Pushups' , 'Handstand Walking' , 'Head Massage' , 'High Jump' , 'Horse Race' , 'Horse Riding' , 'Hula Hoop' , 'Ice Dancing' , 'Javelin Throw' , 'Juggling Balls' , 'Jump Rope' , 'Jumping Jack' , 'Kayaking' , 'Knitting' , 'Long Jump' , 'Lunges' , 'Military Parade' , 'Mixing Batter' , 'Mopping Floor' , 'Nun chucks' , 'Parallel Bars' , 'Pizza Tossing' , 'Playing Guitar' , 'Playing Piano' , 'Playing Tabla' , 'Playing Violin' , 'Playing Cello' , 'Playing Daf' , 'Playing Dhol' , 'Playing Flute' , 'Playing Sitar' , 'Pole Vault' , 'Pommel Horse' , 'Pull Ups' , 'Punch' , 'Push Ups', 'Rafting' , 'Rock Climbing Indoor' , 'Rope Climbing' , 'Rowing' , 'Salsa Spins' , 'Shaving Beard' , 'Shotput' , 'Skate Boarding' , 'Skiing' , 'Skijet' , 'Sky Diving' , 'Soccer Juggling' , 'Soccer Penalty' , 'Still Rings' , 'Sumo Wrestling' , 'Surfing' , 'Swing' , 'Table Tennis Shot' , 'Tai Chi' , 'Tennis Swing' , 'Throw Discus' , 'Trampoline Jumping' , 'Typing' , 'Uneven Bars' , 'Volleyball Spiking' , 'Walking with a dog', 'Wall Pushups' , 'Writing On Board' , 'Yo Yo']"
      ],
      "execution_count": 0,
      "outputs": []
    },
    {
      "cell_type": "code",
      "metadata": {
        "id": "hpmyThwWjqqr",
        "colab_type": "code",
        "outputId": "32058075-f599-4fed-96ea-1bdd65d6871a",
        "colab": {
          "base_uri": "https://localhost:8080/",
          "height": 34
        }
      },
      "source": [
        "device = torch.device(\"cuda:0\" if torch.cuda.is_available() else \"cpu\")\n",
        "print(device)"
      ],
      "execution_count": 0,
      "outputs": [
        {
          "output_type": "stream",
          "text": [
            "cpu\n"
          ],
          "name": "stdout"
        }
      ]
    },
    {
      "cell_type": "code",
      "metadata": {
        "id": "uREjm1pRjtPk",
        "colab_type": "code",
        "colab": {}
      },
      "source": [
        "import torch.nn as nn\n",
        "import torch.nn.functional as F\n",
        "\n",
        "\n",
        "class Single_Frame_Net(nn.Module):\n",
        "    def __init__(self):\n",
        "        super(Single_Frame_Net, self).__init__()\n",
        "        self.conv1 = nn.Conv2d(in_channels = 3, out_channels = 48, kernel_size = 6, stride = 2, padding = 0)\n",
        "        self.conv2 = nn.Conv2d(in_channels = 48, out_channels = 48, kernel_size = 7, stride = 1, padding = 3)\n",
        "        self.conv3 = nn.Conv2d(in_channels = 48, out_channels = 48, kernel_size = 7, stride = 1, padding = 3)\n",
        "        self.bn1 = nn.BatchNorm2d(48)\n",
        "        self.pool1 = nn.MaxPool2d(4, 2)\n",
        "        self.conv4 = nn.Conv2d(in_channels = 48, out_channels = 128, kernel_size = 6, stride = 2, padding = 0)\n",
        "        self.conv5 = nn.Conv2d(in_channels = 128, out_channels = 128, kernel_size = 7, stride = 1, padding = 3)\n",
        "        self.conv6 = nn.Conv2d(in_channels = 128, out_channels = 128, kernel_size = 7, stride = 1, padding = 3)\n",
        "        self.bn2 = nn.BatchNorm2d(128)\n",
        "        self.conv7 = nn.Conv2d(in_channels = 128, out_channels = 256, kernel_size = 3, stride = 2, padding = 0)\n",
        "        self.conv8 = nn.Conv2d(in_channels = 256, out_channels = 256, kernel_size = 7, stride = 1, padding = 3)\n",
        "        self.conv9 = nn.Conv2d(in_channels = 256, out_channels = 256, kernel_size = 7, stride = 1, padding = 3)\n",
        "        self.bn3 = nn.BatchNorm2d(256)\n",
        "        self.pool3 = nn.MaxPool2d(4, 2)\n",
        "        self.conv10 = nn.Conv2d(in_channels = 256, out_channels = 256, kernel_size = 3, stride = 2, padding = 0)\n",
        "        self.conv11 = nn.Conv2d(in_channels = 256, out_channels = 256, kernel_size = 2, stride = 1, padding = 0)\n",
        "        self.conv12 = nn.Conv2d(in_channels = 256, out_channels = 101, kernel_size = 1, stride = 2, padding = 0)\n",
        "        \n",
        "    def forward(self, x):\n",
        "        x = self.conv1(x)\n",
        "        x = self.pool1(self.bn1(F.relu(self.conv3(self.conv2(x))+x)))\n",
        "        x = self.conv4(x)\n",
        "        x = self.bn2(F.relu(self.conv6(self.conv5(x))+x))\n",
        "        x = self.conv7(x)\n",
        "        x = self.pool3(self.bn3(F.relu(self.conv9(self.conv8(x))+x)))\n",
        "        x = self.conv12(F.relu(self.conv11(self.conv10(x))))\n",
        "        return x\n",
        "\n",
        "sfr_net = Single_Frame_Net()"
      ],
      "execution_count": 0,
      "outputs": []
    },
    {
      "cell_type": "code",
      "metadata": {
        "id": "4PKM28KOjzV7",
        "colab_type": "code",
        "outputId": "65a1a845-ec37-4cf5-dcbd-7bc11481a5fb",
        "colab": {
          "base_uri": "https://localhost:8080/",
          "height": 340
        }
      },
      "source": [
        "sfr_net.to(device)"
      ],
      "execution_count": 0,
      "outputs": [
        {
          "output_type": "execute_result",
          "data": {
            "text/plain": [
              "Single_Frame_Net(\n",
              "  (conv1): Conv2d(3, 48, kernel_size=(6, 6), stride=(2, 2))\n",
              "  (conv2): Conv2d(48, 48, kernel_size=(7, 7), stride=(1, 1), padding=(3, 3))\n",
              "  (conv3): Conv2d(48, 48, kernel_size=(7, 7), stride=(1, 1), padding=(3, 3))\n",
              "  (bn1): BatchNorm2d(48, eps=1e-05, momentum=0.1, affine=True, track_running_stats=True)\n",
              "  (pool1): MaxPool2d(kernel_size=4, stride=2, padding=0, dilation=1, ceil_mode=False)\n",
              "  (conv4): Conv2d(48, 128, kernel_size=(6, 6), stride=(2, 2))\n",
              "  (conv5): Conv2d(128, 128, kernel_size=(7, 7), stride=(1, 1), padding=(3, 3))\n",
              "  (conv6): Conv2d(128, 128, kernel_size=(7, 7), stride=(1, 1), padding=(3, 3))\n",
              "  (bn2): BatchNorm2d(128, eps=1e-05, momentum=0.1, affine=True, track_running_stats=True)\n",
              "  (conv7): Conv2d(128, 256, kernel_size=(3, 3), stride=(2, 2))\n",
              "  (conv8): Conv2d(256, 256, kernel_size=(7, 7), stride=(1, 1), padding=(3, 3))\n",
              "  (conv9): Conv2d(256, 256, kernel_size=(7, 7), stride=(1, 1), padding=(3, 3))\n",
              "  (bn3): BatchNorm2d(256, eps=1e-05, momentum=0.1, affine=True, track_running_stats=True)\n",
              "  (pool3): MaxPool2d(kernel_size=4, stride=2, padding=0, dilation=1, ceil_mode=False)\n",
              "  (conv10): Conv2d(256, 256, kernel_size=(3, 3), stride=(2, 2))\n",
              "  (conv11): Conv2d(256, 256, kernel_size=(2, 2), stride=(1, 1))\n",
              "  (conv12): Conv2d(256, 101, kernel_size=(1, 1), stride=(2, 2))\n",
              ")"
            ]
          },
          "metadata": {
            "tags": []
          },
          "execution_count": 7
        }
      ]
    },
    {
      "cell_type": "code",
      "metadata": {
        "id": "F2b7K6Ikj0ak",
        "colab_type": "code",
        "colab": {}
      },
      "source": [
        "import torch.optim as optim\n",
        "\n",
        "criterion = nn.CrossEntropyLoss()\n",
        "optimizer = optim.Adam(sfr_net.parameters(), lr=0.001)#, momentum=0.9)"
      ],
      "execution_count": 0,
      "outputs": []
    },
    {
      "cell_type": "code",
      "metadata": {
        "id": "oGCX-_w9j0MI",
        "colab_type": "code",
        "colab": {}
      },
      "source": [
        "for epoch in range(10):  # loop over the dataset multiple times\n",
        "    running_loss = 0.0\n",
        "    for i,data in enumerate(sfr_trainloader, 0):\n",
        "        #print(data)\n",
        "        # get the inputs; data is a list of [inputs, labels]\n",
        "        inputs, labels = data[0].to(device), data[1].to(device)\n",
        "\n",
        "        # zero the parameter gradients\n",
        "        optimizer.zero_grad()\n",
        "\n",
        "        # forward + backward + optimize\n",
        "        outputs = sfr_net(inputs).squeeze()\n",
        "        #print(outputs.size())\n",
        "        loss = criterion(outputs, labels)\n",
        "        loss.backward()\n",
        "        optimizer.step()\n",
        "\n",
        "        # print statistics\n",
        "        running_loss += loss.item()\n",
        "        if i % 100 == 99:    # print every 100 mini-batches\n",
        "            print('[%d, %5d] loss: %.3f' %\n",
        "                  (epoch + 1, i + 1, running_loss / 100))\n",
        "            running_loss = 0.0\n",
        "\n",
        "print('Finished Training')"
      ],
      "execution_count": 0,
      "outputs": []
    },
    {
      "cell_type": "code",
      "metadata": {
        "id": "tBKTMUXpkFqW",
        "colab_type": "code",
        "colab": {}
      },
      "source": [
        "PATH_SFR = './ucf101_sfr_net_res1.pt'\n",
        "torch.save(sfr_net.state_dict(), PATH_SFR)"
      ],
      "execution_count": 0,
      "outputs": []
    },
    {
      "cell_type": "code",
      "metadata": {
        "id": "l0EKnJL0j5xE",
        "colab_type": "code",
        "colab": {}
      },
      "source": [
        "PATH_SFR = './ucf101_sfr_net_res1.pt'\n",
        "sfr_net = Single_Frame_Net()\n",
        "sfr_net.load_state_dict(torch.load(PATH_SFR))"
      ],
      "execution_count": 0,
      "outputs": []
    },
    {
      "cell_type": "code",
      "metadata": {
        "id": "iFzYQKM-kOmf",
        "colab_type": "code",
        "colab": {}
      },
      "source": [
        "sfr_net.to(device)"
      ],
      "execution_count": 0,
      "outputs": []
    },
    {
      "cell_type": "code",
      "metadata": {
        "id": "LsTpjEv8kRKZ",
        "colab_type": "code",
        "outputId": "c2bfce24-6e1b-4a2e-db4b-8115e3743edb",
        "colab": {
          "base_uri": "https://localhost:8080/",
          "height": 34
        }
      },
      "source": [
        "correct = 0\n",
        "total = 0\n",
        "with torch.no_grad():\n",
        "    for i,data in enumerate(sfr_trainloader,0):\n",
        "        images, labels = data[0].to(device), data[1].to(device)\n",
        "        outputs = sfr_net(images)\n",
        "        _, predicted = torch.max(outputs.data, 1)\n",
        "        total += labels.size(0)\n",
        "        correct += (predicted == labels).sum().item()\n",
        "\n",
        "print('Accuracy of the network on the train images: %d %%' % (100 * correct / total))"
      ],
      "execution_count": 0,
      "outputs": [
        {
          "output_type": "stream",
          "text": [
            "Accuracy of the network on the train images: 76 %\n"
          ],
          "name": "stdout"
        }
      ]
    },
    {
      "cell_type": "code",
      "metadata": {
        "id": "O7UQqR_KkTnq",
        "colab_type": "code",
        "outputId": "616f1f11-55ce-49c3-ca5c-7a10c3e565d6",
        "colab": {
          "base_uri": "https://localhost:8080/",
          "height": 34
        }
      },
      "source": [
        "correct = 0\n",
        "total = 0\n",
        "with torch.no_grad():\n",
        "    for i,data in enumerate(sfr_testloader,0):\n",
        "        images,labels = data[0].to(device), data[1].to(device)\n",
        "        outputs = sfr_net(images)\n",
        "        _, predicted = torch.max(outputs.data, 1)\n",
        "        total += labels.size(0)\n",
        "        correct += (predicted == labels).sum().item()\n",
        "        \n",
        "print('Accuracy of the network on the test images: %d %%' % (100 * correct / total))"
      ],
      "execution_count": 0,
      "outputs": [
        {
          "output_type": "stream",
          "text": [
            "Accuracy of the network on the test images: 47 %\n"
          ],
          "name": "stdout"
        }
      ]
    }
  ]
}