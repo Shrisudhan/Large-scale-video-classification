{
  "nbformat": 4,
  "nbformat_minor": 0,
  "metadata": {
    "kernelspec": {
      "name": "python3",
      "display_name": "Python 3"
    },
    "language_info": {
      "codemirror_mode": {
        "name": "ipython",
        "version": 3
      },
      "file_extension": ".py",
      "mimetype": "text/x-python",
      "name": "python",
      "nbconvert_exporter": "python",
      "pygments_lexer": "ipython3",
      "version": "3.7.3"
    },
    "colab": {
      "name": "Large scale video detection project resnet sfr.ipynb",
      "provenance": [],
      "collapsed_sections": [],
      "machine_shape": "hm"
    },
    "accelerator": "GPU"
  },
  "cells": [
    {
      "cell_type": "code",
      "metadata": {
        "id": "UiOCXzDN9DGY",
        "colab_type": "code",
        "outputId": "84f7f215-9798-4fc3-f461-43a22f918449",
        "colab": {
          "base_uri": "https://localhost:8080/",
          "height": 34
        }
      },
      "source": [
        "from google.colab import drive\n",
        "drive.mount('/content/drive', force_remount=True)"
      ],
      "execution_count": 11,
      "outputs": [
        {
          "output_type": "stream",
          "text": [
            "Mounted at /content/drive\n"
          ],
          "name": "stdout"
        }
      ]
    },
    {
      "cell_type": "code",
      "metadata": {
        "id": "lqymJGkx0_OV",
        "colab_type": "code",
        "colab": {}
      },
      "source": [
        "import torch\n",
        "import torchvision\n",
        "import cv2\n",
        "import torchvision.transforms as transforms\n",
        "import numpy as np\n",
        "import os\n",
        "from torch.utils.data import Dataset\n",
        "from PIL import Image\n",
        "transform = transforms.Compose([transforms.ToTensor(), transforms.Normalize((0.0, 0.0, 0.0), (0.25, 0.25, 0.25))])"
      ],
      "execution_count": 0,
      "outputs": []
    },
    {
      "cell_type": "code",
      "metadata": {
        "id": "2rrl6yGo0_Op",
        "colab_type": "code",
        "outputId": "deec0c45-8fea-469c-c047-8af2887523b9",
        "colab": {
          "base_uri": "https://localhost:8080/",
          "height": 34
        }
      },
      "source": [
        "sfr_trainset = []        \n",
        "class UCF101Dataset(Dataset):\n",
        "    def __init__(self,root,annotation,fpc):\n",
        "        Array = []\n",
        "        mid = int(fpc/2)+1\n",
        "        with open(annotation,'r') as f:\n",
        "            for line in f:\n",
        "                Array = [word for line in f for word in line.split()]\n",
        "        size = int(len(Array)/2)\n",
        "        for i in range(size):\n",
        "            if i%2 == 0:\n",
        "                Array[i] = '/content/drive/My Drive/UCF-101' + '/' + Array[i]\n",
        "        for i in range(size):\n",
        "            cap = cv2.VideoCapture(Array[2*i])\n",
        "            success,image = cap.read()\n",
        "            count = 1\n",
        "            success = True\n",
        "            sfr = []\n",
        "            while success:\n",
        "                if count<=fpc:\n",
        "                    success,image = cap.read()\n",
        "                    if cv2.waitKey(10) == 27:                     # exit if Escape is hit\n",
        "                        break\n",
        "                    if count == mid:\n",
        "                        tensor_sfr = transform(image)\n",
        "                        sfr.append(tensor_sfr)\n",
        "                        sfr.append(int(Array[2*i+1]))\n",
        "                        sfr_trainset.append(sfr)\n",
        "                    count +=1                    \n",
        "                else:\n",
        "                    break    \n",
        "\n",
        "UCF101Dataset(root = '/content/drive/My Drive/UCF-101',annotation = '/content/drive/My Drive/UCF-101/trainlist02.txt',fpc = 15)"
      ],
      "execution_count": 4,
      "outputs": [
        {
          "output_type": "execute_result",
          "data": {
            "text/plain": [
              "<__main__.UCF101Dataset at 0x7f911f49f400>"
            ]
          },
          "metadata": {
            "tags": []
          },
          "execution_count": 4
        }
      ]
    },
    {
      "cell_type": "code",
      "metadata": {
        "id": "4OoOK66Xwciu",
        "colab_type": "code",
        "outputId": "70abc7e4-32e1-448c-a57a-c8de1bd7b02d",
        "colab": {
          "base_uri": "https://localhost:8080/",
          "height": 34
        }
      },
      "source": [
        "sfr_testset = []        \n",
        "class UCF101Dataset(Dataset):\n",
        "    def __init__(self,root,annotation,fpc):\n",
        "        Array = []\n",
        "        mid = int(fpc/2)+1\n",
        "        with open(annotation,'r') as f:\n",
        "            for line in f:\n",
        "                Array = [word for line in f for word in line.split()]\n",
        "        size = int(len(Array)/2)\n",
        "        for i in range(size):\n",
        "            if i%2 == 0:\n",
        "                Array[i] = '/content/drive/My Drive/UCF-101' + '/' + Array[i]\n",
        "        for i in range(size):\n",
        "            cap = cv2.VideoCapture(Array[2*i])\n",
        "            success,image = cap.read()\n",
        "            count = 1\n",
        "            success = True\n",
        "            sfr = []\n",
        "            while success:\n",
        "                if count<=fpc:\n",
        "                    success,image = cap.read()\n",
        "                    if cv2.waitKey(10) == 27:                     \n",
        "                        break\n",
        "                    if count == mid:\n",
        "                        tensor_sfr = transform(image)\n",
        "                        sfr.append(tensor_sfr)\n",
        "                        sfr.append(int(Array[2*i+1]))\n",
        "                        sfr_testset.append(sfr)\n",
        "                    count +=1                    \n",
        "                else:\n",
        "                    break    \n",
        "\n",
        "UCF101Dataset(root = '/content/drive/My Drive/UCF-101',annotation = 'testlist02.txt',fpc = 15)"
      ],
      "execution_count": 15,
      "outputs": [
        {
          "output_type": "execute_result",
          "data": {
            "text/plain": [
              "<__main__.UCF101Dataset at 0x7f911f423a90>"
            ]
          },
          "metadata": {
            "tags": []
          },
          "execution_count": 15
        }
      ]
    },
    {
      "cell_type": "code",
      "metadata": {
        "id": "n0GDhLLzlOsD",
        "colab_type": "code",
        "colab": {
          "base_uri": "https://localhost:8080/",
          "height": 34
        },
        "outputId": "fba78a93-4c3e-4857-91bf-f6c15e5b3f6f"
      },
      "source": [
        "sfr_testset[25][0].sum()"
      ],
      "execution_count": 17,
      "outputs": [
        {
          "output_type": "execute_result",
          "data": {
            "text/plain": [
              "tensor(398254.5000)"
            ]
          },
          "metadata": {
            "tags": []
          },
          "execution_count": 17
        }
      ]
    },
    {
      "cell_type": "code",
      "metadata": {
        "id": "gzVqQHILXMbe",
        "colab_type": "code",
        "colab": {}
      },
      "source": [
        "torch.save(sfr_trainset,'./ufc101_sfr_trainset.pt')\n",
        "torch.save(sfr_testset,'./ufc101_sfr_testset.pt')"
      ],
      "execution_count": 0,
      "outputs": []
    },
    {
      "cell_type": "code",
      "metadata": {
        "id": "vRCEj_2zqv3I",
        "colab_type": "code",
        "colab": {}
      },
      "source": [
        "sfr_trainset = torch.load('/content/drive/My Drive/UCF-101/ufc101_sfr_trainset.pt')\n",
        "sfr_testset = torch.load('/content/drive/My Drive/UCF-101/ufc101_sfr_testset.pt')"
      ],
      "execution_count": 0,
      "outputs": []
    },
    {
      "cell_type": "code",
      "metadata": {
        "scrolled": false,
        "id": "6RbiszXF0_O2",
        "colab_type": "code",
        "colab": {}
      },
      "source": [
        "sfr_trainloader = torch.utils.data.DataLoader(sfr_trainset, batch_size=16,shuffle=True, num_workers=1)\n",
        "sfr_testloader = torch.utils.data.DataLoader(sfr_testset, batch_size=16, shuffle=True, num_workers=1)\n",
        "classes = ['Apply Eye Makeup' , 'Apply Lipstick' , 'Archery' , 'Baby Crawling' , 'Balance Beam' , 'Band Marching' , 'Baseball Pitch' , 'Basketball Shooting' , 'Basketball Dunk' , 'Bench Press' , 'Biking' , 'Billiards Shot' , 'Blow Dry Hair' , 'Blowing Candles' , 'Body Weight Squats' , 'Bowling' , 'Boxing Punching Bag' , 'Boxing Speed Bag' , 'Breaststroke' , 'Brushing Teeth' , 'Clean and Jerk' , 'Cliff Diving' , 'Cricket Bowling' , 'Cricket Shot' , 'Cutting In Kitchen' , 'Diving' , 'Drumming' , 'Fencing' , 'Field Hockey Penalty' , 'Floor Gymnastics' , 'Frisbee Catch' , 'Front Crawl' , 'Golf Swing' , 'Haircut' , 'Hammer Throw' , 'Hammering' , 'Handstand Pushups' , 'Handstand Walking' , 'Head Massage' , 'High Jump' , 'Horse Race' , 'Horse Riding' , 'Hula Hoop' , 'Ice Dancing' , 'Javelin Throw' , 'Juggling Balls' , 'Jump Rope' , 'Jumping Jack' , 'Kayaking' , 'Knitting' , 'Long Jump' , 'Lunges' , 'Military Parade' , 'Mixing Batter' , 'Mopping Floor' , 'Nun chucks' , 'Parallel Bars' , 'Pizza Tossing' , 'Playing Guitar' , 'Playing Piano' , 'Playing Tabla' , 'Playing Violin' , 'Playing Cello' , 'Playing Daf' , 'Playing Dhol' , 'Playing Flute' , 'Playing Sitar' , 'Pole Vault' , 'Pommel Horse' , 'Pull Ups' , 'Punch' , 'Push Ups', 'Rafting' , 'Rock Climbing Indoor' , 'Rope Climbing' , 'Rowing' , 'Salsa Spins' , 'Shaving Beard' , 'Shotput' , 'Skate Boarding' , 'Skiing' , 'Skijet' , 'Sky Diving' , 'Soccer Juggling' , 'Soccer Penalty' , 'Still Rings' , 'Sumo Wrestling' , 'Surfing' , 'Swing' , 'Table Tennis Shot' , 'Tai Chi' , 'Tennis Swing' , 'Throw Discus' , 'Trampoline Jumping' , 'Typing' , 'Uneven Bars' , 'Volleyball Spiking' , 'Walking with a dog', 'Wall Pushups' , 'Writing On Board' , 'Yo Yo']"
      ],
      "execution_count": 0,
      "outputs": []
    },
    {
      "cell_type": "code",
      "metadata": {
        "id": "nTAztQIY0_O6",
        "colab_type": "code",
        "outputId": "f485364b-7821-49b6-f2b5-f086d9039654",
        "colab": {
          "base_uri": "https://localhost:8080/",
          "height": 34
        }
      },
      "source": [
        "device = torch.device(\"cuda:0\" if torch.cuda.is_available() else \"cpu\")\n",
        "print(device)"
      ],
      "execution_count": 20,
      "outputs": [
        {
          "output_type": "stream",
          "text": [
            "cuda:0\n"
          ],
          "name": "stdout"
        }
      ]
    },
    {
      "cell_type": "code",
      "metadata": {
        "id": "TpDo-o1n0_O9",
        "colab_type": "code",
        "colab": {}
      },
      "source": [
        "import torch.nn as nn\n",
        "import torch.nn.functional as F\n",
        "\n",
        "class Single_Frame_Net(nn.Module):\n",
        "    def __init__(self):\n",
        "        super(Single_Frame_Net, self).__init__()\n",
        "        self.conv1 = nn.Conv2d(in_channels = 3, out_channels = 48, kernel_size = 7, stride = 1, padding = 3)\n",
        "        self.conv2 = nn.Conv2d(in_channels = 48, out_channels = 64, kernel_size = 7, stride = 1, padding = 3)\n",
        "        self.conv3 = nn.Conv2d(in_channels = 64, out_channels = 96, kernel_size = 7, stride = 1, padding = 3)\n",
        "        self.proj4 = nn.Conv2d(in_channels = 3, out_channels = 96, kernel_size = 7, stride = 1, padding = 3)\n",
        "        self.bn1 = nn.BatchNorm2d(96)\n",
        "        self.pool1 = nn.MaxPool2d(2, 2)\n",
        "        self.conv5 = nn.Conv2d(in_channels = 96, out_channels = 176, kernel_size = 5, stride = 1, padding = 2)\n",
        "        self.conv6 = nn.Conv2d(in_channels = 176, out_channels = 256, kernel_size = 5, stride = 1, padding = 2)\n",
        "        self.proj7 = nn.Conv2d(in_channels = 96, out_channels = 256, kernel_size = 5, stride = 1, padding = 2)\n",
        "        self.bn2 = nn.BatchNorm2d(256)\n",
        "        self.pool2 = nn.MaxPool2d(4, 4)\n",
        "        self.conv8 = nn.Conv2d(in_channels = 256, out_channels = 384, kernel_size = 5, stride = 1, padding = 2)\n",
        "        self.conv9 = nn.Conv2d(in_channels = 384, out_channels = 384, kernel_size = 6, stride = 2, padding = 0)\n",
        "        self.conv10 = nn.Conv2d(in_channels = 384, out_channels = 384, kernel_size = 6, stride = 1, padding = 0)\n",
        "        self.conv11 = nn.Conv2d(in_channels = 384, out_channels = 256, kernel_size = 6, stride = 2, padding = 0)\n",
        "        self.conv12 = nn.Conv2d(in_channels = 256, out_channels = 256, kernel_size = 2, stride = 2, padding = 0)\n",
        "        self.conv13 = nn.Conv2d(in_channels = 256, out_channels = 101, kernel_size = 1, stride = 2, padding = 0)\n",
        "        \n",
        "\n",
        "    def forward(self, x):\n",
        "        x = self.pool1(self.bn1(F.relu(self.conv3(self.conv2(self.conv1(x)))+self.proj4(x))))\n",
        "        x = self.pool2(self.bn2(F.relu(self.proj7(x)+self.conv6(self.conv5(x)))))\n",
        "        x = self.conv13(F.relu(self.conv12(self.conv11(self.conv10(self.conv9(self.conv8(x)))))))\n",
        "        return x\n",
        "\n",
        "sfr_net = Single_Frame_Net()"
      ],
      "execution_count": 0,
      "outputs": []
    },
    {
      "cell_type": "code",
      "metadata": {
        "id": "knxC3G8-0_PA",
        "colab_type": "code",
        "outputId": "b9f741dc-d46c-405e-a3c1-c027fa0c30ea",
        "colab": {
          "base_uri": "https://localhost:8080/",
          "height": 340
        }
      },
      "source": [
        "sfr_net.to(device)"
      ],
      "execution_count": 22,
      "outputs": [
        {
          "output_type": "execute_result",
          "data": {
            "text/plain": [
              "Single_Frame_Net(\n",
              "  (conv1): Conv2d(3, 48, kernel_size=(7, 7), stride=(1, 1), padding=(3, 3))\n",
              "  (conv2): Conv2d(48, 64, kernel_size=(7, 7), stride=(1, 1), padding=(3, 3))\n",
              "  (conv3): Conv2d(64, 96, kernel_size=(7, 7), stride=(1, 1), padding=(3, 3))\n",
              "  (proj4): Conv2d(3, 96, kernel_size=(7, 7), stride=(1, 1), padding=(3, 3))\n",
              "  (bn1): BatchNorm2d(96, eps=1e-05, momentum=0.1, affine=True, track_running_stats=True)\n",
              "  (pool1): MaxPool2d(kernel_size=2, stride=2, padding=0, dilation=1, ceil_mode=False)\n",
              "  (conv5): Conv2d(96, 176, kernel_size=(5, 5), stride=(1, 1), padding=(2, 2))\n",
              "  (conv6): Conv2d(176, 256, kernel_size=(5, 5), stride=(1, 1), padding=(2, 2))\n",
              "  (proj7): Conv2d(96, 256, kernel_size=(5, 5), stride=(1, 1), padding=(2, 2))\n",
              "  (bn2): BatchNorm2d(256, eps=1e-05, momentum=0.1, affine=True, track_running_stats=True)\n",
              "  (pool2): MaxPool2d(kernel_size=4, stride=4, padding=0, dilation=1, ceil_mode=False)\n",
              "  (conv8): Conv2d(256, 384, kernel_size=(5, 5), stride=(1, 1), padding=(2, 2))\n",
              "  (conv9): Conv2d(384, 384, kernel_size=(6, 6), stride=(2, 2))\n",
              "  (conv10): Conv2d(384, 384, kernel_size=(6, 6), stride=(1, 1))\n",
              "  (conv11): Conv2d(384, 256, kernel_size=(6, 6), stride=(2, 2))\n",
              "  (conv12): Conv2d(256, 256, kernel_size=(2, 2), stride=(2, 2))\n",
              "  (conv13): Conv2d(256, 101, kernel_size=(1, 1), stride=(2, 2))\n",
              ")"
            ]
          },
          "metadata": {
            "tags": []
          },
          "execution_count": 22
        }
      ]
    },
    {
      "cell_type": "code",
      "metadata": {
        "id": "7jOORkV00_PE",
        "colab_type": "code",
        "colab": {}
      },
      "source": [
        "import torch.optim as optim\n",
        "criterion = nn.CrossEntropyLoss()\n",
        "optimizer = optim.Adam(sfr_net.parameters(), lr=0.0005)#, momentum=0.9)"
      ],
      "execution_count": 0,
      "outputs": []
    },
    {
      "cell_type": "code",
      "metadata": {
        "id": "98tQHX_y0_PH",
        "colab_type": "code",
        "outputId": "824e490f-d478-477c-b174-03ab31b08135",
        "colab": {
          "base_uri": "https://localhost:8080/",
          "height": 1000
        }
      },
      "source": [
        "for epoch in range(3):  # loop over the dataset multiple times\n",
        "    running_loss = 0.0\n",
        "    for i,data in enumerate(sfr_trainloader, 0):\n",
        "        #print(data)\n",
        "        # get the inputs; data is a list of [inputs, labels]\n",
        "        inputs, labels = data[0].to(device), data[1].to(device)\n",
        "\n",
        "        # zero the parameter gradients\n",
        "        optimizer.zero_grad()\n",
        "\n",
        "        # forward + backward + optimize\n",
        "        outputs = sfr_net(inputs).squeeze()\n",
        "        #print(outputs.size())\n",
        "        loss = criterion(outputs, labels)\n",
        "        loss.backward()\n",
        "        optimizer.step()\n",
        "\n",
        "        # print statistics\n",
        "        running_loss += loss.item()\n",
        "        if i % 10 == 9:    # print every 10 mini-batches\n",
        "            print('[%d, %5d] loss: %.3f' %\n",
        "                  (epoch + 1, i + 1, running_loss / 10))\n",
        "            running_loss = 0.0\n",
        "\n",
        "print('Finished Training')"
      ],
      "execution_count": 26,
      "outputs": [
        {
          "output_type": "stream",
          "text": [
            "[1,    10] loss: 3.314\n",
            "[1,    20] loss: 3.210\n",
            "[1,    30] loss: 3.207\n",
            "[1,    40] loss: 3.600\n",
            "[1,    50] loss: 3.569\n",
            "[1,    60] loss: 3.301\n",
            "[1,    70] loss: 3.308\n",
            "[1,    80] loss: 3.355\n",
            "[1,    90] loss: 3.439\n",
            "[1,   100] loss: 3.446\n",
            "[1,   110] loss: 3.204\n",
            "[1,   120] loss: 3.389\n",
            "[1,   130] loss: 3.193\n",
            "[1,   140] loss: 3.260\n",
            "[1,   150] loss: 3.531\n",
            "[1,   160] loss: 3.285\n",
            "[1,   170] loss: 3.302\n",
            "[1,   180] loss: 3.219\n",
            "[1,   190] loss: 3.389\n",
            "[1,   200] loss: 3.056\n",
            "[1,   210] loss: 3.324\n",
            "[1,   220] loss: 3.295\n",
            "[1,   230] loss: 3.136\n",
            "[1,   240] loss: 3.074\n",
            "[1,   250] loss: 3.331\n",
            "[1,   260] loss: 3.181\n",
            "[1,   270] loss: 3.266\n",
            "[1,   280] loss: 3.290\n",
            "[1,   290] loss: 3.167\n",
            "[1,   300] loss: 3.198\n",
            "[2,    10] loss: 3.182\n",
            "[2,    20] loss: 3.040\n",
            "[2,    30] loss: 2.978\n",
            "[2,    40] loss: 3.171\n",
            "[2,    50] loss: 3.077\n",
            "[2,    60] loss: 3.066\n",
            "[2,    70] loss: 2.985\n",
            "[2,    80] loss: 3.078\n",
            "[2,    90] loss: 3.182\n",
            "[2,   100] loss: 3.409\n",
            "[2,   110] loss: 3.194\n",
            "[2,   120] loss: 3.165\n",
            "[2,   130] loss: 3.368\n",
            "[2,   140] loss: 3.065\n",
            "[2,   150] loss: 3.207\n",
            "[2,   160] loss: 3.453\n",
            "[2,   170] loss: 3.064\n",
            "[2,   180] loss: 3.213\n",
            "[2,   190] loss: 3.093\n",
            "[2,   200] loss: 3.313\n",
            "[2,   210] loss: 3.317\n",
            "[2,   220] loss: 3.801\n",
            "[2,   230] loss: 3.458\n",
            "[2,   240] loss: 3.795\n",
            "[2,   250] loss: 3.182\n",
            "[2,   260] loss: 3.240\n",
            "[2,   270] loss: 3.217\n",
            "[2,   280] loss: 3.671\n",
            "[2,   290] loss: 3.485\n",
            "[2,   300] loss: 3.856\n",
            "[3,    10] loss: 3.894\n",
            "[3,    20] loss: 4.409\n",
            "[3,    30] loss: 3.920\n",
            "[3,    40] loss: 4.539\n",
            "[3,    50] loss: 9.062\n",
            "[3,    60] loss: 10781.642\n",
            "[3,    70] loss: 47669.314\n",
            "[3,    80] loss: 18520.398\n",
            "[3,    90] loss: 10346.135\n",
            "[3,   100] loss: 3943.313\n",
            "[3,   110] loss: 581.187\n",
            "[3,   120] loss: 259.119\n",
            "[3,   130] loss: 45.167\n",
            "[3,   140] loss: 20.398\n",
            "[3,   150] loss: 6.409\n",
            "[3,   160] loss: 43.289\n",
            "[3,   170] loss: 64.694\n",
            "[3,   180] loss: 24.424\n",
            "[3,   190] loss: 7.311\n",
            "[3,   200] loss: 4.518\n",
            "[3,   210] loss: 15.725\n",
            "[3,   220] loss: 4.788\n",
            "[3,   230] loss: 5.319\n",
            "[3,   240] loss: 5.164\n",
            "[3,   250] loss: 4.537\n",
            "[3,   260] loss: 4.473\n",
            "[3,   270] loss: 5.096\n",
            "[3,   280] loss: 4.466\n",
            "[3,   290] loss: 4.565\n",
            "[3,   300] loss: 4.461\n",
            "Finished Training\n"
          ],
          "name": "stdout"
        }
      ]
    },
    {
      "cell_type": "code",
      "metadata": {
        "id": "7unT_Jv10_PK",
        "colab_type": "code",
        "colab": {}
      },
      "source": [
        "PATH_SFR = './ucf101_sfr_net_res.pt'\n",
        "torch.save(sfr_net.state_dict(), PATH_SFR)"
      ],
      "execution_count": 0,
      "outputs": []
    },
    {
      "cell_type": "code",
      "metadata": {
        "id": "Taq4Oyj30_PN",
        "colab_type": "code",
        "colab": {
          "base_uri": "https://localhost:8080/",
          "height": 34
        },
        "outputId": "c3d8e69e-b6cf-409c-feb0-8dfc2ffa1994"
      },
      "source": [
        "PATH_SFR = './ucf101_sfr_net_res.pt'\n",
        "sfr_net = Single_Frame_Net()\n",
        "sfr_net.load_state_dict(torch.load(PATH_SFR))"
      ],
      "execution_count": 27,
      "outputs": [
        {
          "output_type": "execute_result",
          "data": {
            "text/plain": [
              "<All keys matched successfully>"
            ]
          },
          "metadata": {
            "tags": []
          },
          "execution_count": 27
        }
      ]
    },
    {
      "cell_type": "code",
      "metadata": {
        "id": "zrRXULZu0_PP",
        "colab_type": "code",
        "colab": {
          "base_uri": "https://localhost:8080/",
          "height": 340
        },
        "outputId": "9810189f-ff82-4f36-810d-8f06ecae8732"
      },
      "source": [
        "sfr_net.to(device)"
      ],
      "execution_count": 28,
      "outputs": [
        {
          "output_type": "execute_result",
          "data": {
            "text/plain": [
              "Single_Frame_Net(\n",
              "  (conv1): Conv2d(3, 48, kernel_size=(7, 7), stride=(1, 1), padding=(3, 3))\n",
              "  (conv2): Conv2d(48, 64, kernel_size=(7, 7), stride=(1, 1), padding=(3, 3))\n",
              "  (conv3): Conv2d(64, 96, kernel_size=(7, 7), stride=(1, 1), padding=(3, 3))\n",
              "  (proj4): Conv2d(3, 96, kernel_size=(7, 7), stride=(1, 1), padding=(3, 3))\n",
              "  (bn1): BatchNorm2d(96, eps=1e-05, momentum=0.1, affine=True, track_running_stats=True)\n",
              "  (pool1): MaxPool2d(kernel_size=2, stride=2, padding=0, dilation=1, ceil_mode=False)\n",
              "  (conv5): Conv2d(96, 176, kernel_size=(5, 5), stride=(1, 1), padding=(2, 2))\n",
              "  (conv6): Conv2d(176, 256, kernel_size=(5, 5), stride=(1, 1), padding=(2, 2))\n",
              "  (proj7): Conv2d(96, 256, kernel_size=(5, 5), stride=(1, 1), padding=(2, 2))\n",
              "  (bn2): BatchNorm2d(256, eps=1e-05, momentum=0.1, affine=True, track_running_stats=True)\n",
              "  (pool2): MaxPool2d(kernel_size=4, stride=4, padding=0, dilation=1, ceil_mode=False)\n",
              "  (conv8): Conv2d(256, 384, kernel_size=(5, 5), stride=(1, 1), padding=(2, 2))\n",
              "  (conv9): Conv2d(384, 384, kernel_size=(6, 6), stride=(2, 2))\n",
              "  (conv10): Conv2d(384, 384, kernel_size=(6, 6), stride=(1, 1))\n",
              "  (conv11): Conv2d(384, 256, kernel_size=(6, 6), stride=(2, 2))\n",
              "  (conv12): Conv2d(256, 256, kernel_size=(2, 2), stride=(2, 2))\n",
              "  (conv13): Conv2d(256, 101, kernel_size=(1, 1), stride=(2, 2))\n",
              ")"
            ]
          },
          "metadata": {
            "tags": []
          },
          "execution_count": 28
        }
      ]
    },
    {
      "cell_type": "code",
      "metadata": {
        "id": "ISDgLwRd0_PS",
        "colab_type": "code",
        "colab": {
          "base_uri": "https://localhost:8080/",
          "height": 34
        },
        "outputId": "f4e3be85-52c3-46d8-d9e6-fead0d076154"
      },
      "source": [
        "correct = 0\n",
        "total = 0\n",
        "with torch.no_grad():\n",
        "    for i,data in enumerate(sfr_trainloader,0):\n",
        "        images, labels = data[0].to(device), data[1].to(device)\n",
        "        outputs = sfr_net(images)\n",
        "        _, predicted = torch.max(outputs.data, 1)\n",
        "        total += labels.size(0)\n",
        "        correct += (predicted == labels).sum().item()\n",
        "\n",
        "print('Accuracy of the network on the train images: %d %%' % (100 * correct / total))"
      ],
      "execution_count": 28,
      "outputs": [
        {
          "output_type": "stream",
          "text": [
            "Accuracy of the network on the train images: 35 %\n"
          ],
          "name": "stdout"
        }
      ]
    },
    {
      "cell_type": "code",
      "metadata": {
        "id": "4dhJRdUV0_PY",
        "colab_type": "code",
        "colab": {
          "base_uri": "https://localhost:8080/",
          "height": 34
        },
        "outputId": "3103f329-aff5-490c-af51-f9b9de05b467"
      },
      "source": [
        "correct = 0\n",
        "total = 0\n",
        "with torch.no_grad():\n",
        "    for i,data in enumerate(sfr_testloader,0):\n",
        "        images, labels = data[0].to(device), data[1].to(device)\n",
        "        outputs = sfr_net(images).squeeze()\n",
        "        _, predicted = torch.max(outputs.data, 1)\n",
        "        total += labels.size(0)\n",
        "        correct += (predicted == labels).sum().item()\n",
        "\n",
        "print('Accuracy of the network on the test images: %d %%' % (100 * correct / total))"
      ],
      "execution_count": 31,
      "outputs": [
        {
          "output_type": "stream",
          "text": [
            "Accuracy of the network on the test images: 2 %\n"
          ],
          "name": "stdout"
        }
      ]
    }
  ]
}